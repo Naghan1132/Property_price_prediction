{
 "cells": [
  {
   "cell_type": "code",
   "execution_count": 100,
   "id": "017c3200-468e-41b9-8e7c-4c0beb4b50e8",
   "metadata": {},
   "outputs": [],
   "source": [
    "import pandas as pd\n",
    "# df.to_csv(\"Donnees_Nettoyées.csv\")\n",
    "df = pd.read_csv('/Users/josephpelham/Desktop/SISE/Python/Donnees/Donnees_Nettoyées(NA supprimé pour classification).csv')"
   ]
  },
  {
   "cell_type": "code",
   "execution_count": 127,
   "id": "07e0850e-c612-41a7-92f6-b80494282991",
   "metadata": {},
   "outputs": [],
   "source": [
    "### Get the commune clusters data ### \n",
    "com_df = pd.read_csv('/Users/josephpelham/Desktop/SISE/Python/Donnees/Commune Clusters.csv')"
   ]
  },
  {
   "cell_type": "code",
   "execution_count": 102,
   "id": "73111979-1fd4-4ae9-af20-fa63abe7d472",
   "metadata": {},
   "outputs": [],
   "source": [
    "# append cluster variable to df \n",
    "cluster_mapping = com_df.set_index('Commune')['Cluster'].to_dict()\n",
    "df['Cluster'] = df['Commune'].map(cluster_mapping)"
   ]
  },
  {
   "cell_type": "code",
   "execution_count": 103,
   "id": "3e11e559-e59f-415c-91bb-28396e634df8",
   "metadata": {},
   "outputs": [],
   "source": [
    "from sklearn.tree import DecisionTreeClassifier # Import Decision Tree Classifier\n",
    "from sklearn.model_selection import train_test_split # Import train_test_split function\n",
    "from sklearn import metrics #Import scikit-learn metrics module for accuracy calculation"
   ]
  },
  {
   "cell_type": "code",
   "execution_count": 104,
   "id": "bfb60897-6ed5-4835-af1f-fb176fd0eed6",
   "metadata": {},
   "outputs": [],
   "source": [
    "# Dummies pour 'Nature_mutation' et'Nature_culture'\n",
    "df_dummies = pd.get_dummies(df, columns=['Nature_mutation','Nature_culture','Cluster'],dtype=float )"
   ]
  },
  {
   "cell_type": "code",
   "execution_count": 105,
   "id": "9df1f5ff-91cf-45a1-8b23-44bd9c6fdb36",
   "metadata": {},
   "outputs": [],
   "source": [
    "# Replace missing values in Nombre_pieces_principales by the corresponding median in Type_Local\n",
    "\n",
    "result = df_dummies.groupby(['Type_local'])['Nombre_pieces_principales'].median().reset_index(name='med')\n",
    "median_mapping = result.set_index('Type_local')['med'].to_dict()\n",
    "df_dummies['Nombre_pieces_principales'] = df_dummies['Nombre_pieces_principales'].fillna(df_dummies['Type_local'].map(median_mapping))"
   ]
  },
  {
   "cell_type": "code",
   "execution_count": 106,
   "id": "38ec3947-08a6-4d32-a19b-fc4a1197b948",
   "metadata": {},
   "outputs": [],
   "source": [
    "# Replace missing values in Nombre_pieces_principales by the median in Type_Local\n",
    "res = df_dummies.groupby(['Type_local'])['Surface_reelle_bati'].median().reset_index(name='med')\n",
    "median_mapping = res.set_index('Type_local')['med'].to_dict()\n",
    "df_dummies['Surface_reelle_bati'] = df_dummies['Surface_reelle_bati'].fillna(df_dummies['Type_local'].map(median_mapping))"
   ]
  },
  {
   "cell_type": "code",
   "execution_count": 107,
   "id": "b6768873-fca0-474e-a76d-2e21eba455b1",
   "metadata": {},
   "outputs": [
    {
     "data": {
      "text/plain": [
       "106599"
      ]
     },
     "execution_count": 107,
     "metadata": {},
     "output_type": "execute_result"
    }
   ],
   "source": [
    "df_dummies['Surface_terrain'].isna().sum()"
   ]
  },
  {
   "cell_type": "code",
   "execution_count": 108,
   "id": "fe306b9e-1aba-4e3d-bb1a-97c61eab03b7",
   "metadata": {},
   "outputs": [
    {
     "data": {
      "text/plain": [
       "Unnamed: 0                                                 0\n",
       "No_disposition                                             0\n",
       "Date_mutation                                              0\n",
       "Valeur_fonciere                                          280\n",
       "No_voie                                                 3689\n",
       "Type_de_voie                                           19822\n",
       "Code_voie                                                  0\n",
       "Voie                                                       0\n",
       "Code_postal                                               11\n",
       "Commune                                                    0\n",
       "Code_departement                                           0\n",
       "Code_commune                                               0\n",
       "Section                                                   13\n",
       "No_plan                                                    0\n",
       "1er_lot                                               114080\n",
       "Nombre_de_lots                                             0\n",
       "Code_type_local                                            0\n",
       "Type_local                                                 0\n",
       "Surface_reelle_bati                                        0\n",
       "Nombre_pieces_principales                                  0\n",
       "Surface_terrain                                       106599\n",
       "adresse                                                    0\n",
       "year                                                       0\n",
       "Nature_mutation_Adjudication                               0\n",
       "Nature_mutation_Echange                                    0\n",
       "Nature_mutation_Expropriation                              0\n",
       "Nature_mutation_Vente                                      0\n",
       "Nature_mutation_Vente en l'état futur d'achèvement         0\n",
       "Nature_mutation_Vente terrain à bâtir                      0\n",
       "Nature_culture_AB                                          0\n",
       "Nature_culture_AG                                          0\n",
       "Nature_culture_B                                           0\n",
       "Nature_culture_BF                                          0\n",
       "Nature_culture_BM                                          0\n",
       "Nature_culture_BP                                          0\n",
       "Nature_culture_BR                                          0\n",
       "Nature_culture_BS                                          0\n",
       "Nature_culture_BT                                          0\n",
       "Nature_culture_CA                                          0\n",
       "Nature_culture_CH                                          0\n",
       "Nature_culture_E                                           0\n",
       "Nature_culture_J                                           0\n",
       "Nature_culture_L                                           0\n",
       "Nature_culture_LB                                          0\n",
       "Nature_culture_P                                           0\n",
       "Nature_culture_PA                                          0\n",
       "Nature_culture_PC                                          0\n",
       "Nature_culture_PH                                          0\n",
       "Nature_culture_PP                                          0\n",
       "Nature_culture_S                                           0\n",
       "Nature_culture_T                                           0\n",
       "Nature_culture_VE                                          0\n",
       "Nature_culture_VI                                          0\n",
       "Cluster_0                                                  0\n",
       "Cluster_1                                                  0\n",
       "Cluster_2                                                  0\n",
       "dtype: int64"
      ]
     },
     "execution_count": 108,
     "metadata": {},
     "output_type": "execute_result"
    }
   ],
   "source": [
    "# Regarder les NA\n",
    "pd.set_option('display.max_rows', None)\n",
    "\n",
    "# % of NA \n",
    "df_dummies.isna().sum()"
   ]
  },
  {
   "cell_type": "code",
   "execution_count": 109,
   "id": "4310c7a4-7683-4875-80fc-fb9c072f44c7",
   "metadata": {},
   "outputs": [],
   "source": [
    "# Reset the display option to the default\n",
    "pd.reset_option('display.max_rows')"
   ]
  },
  {
   "cell_type": "code",
   "execution_count": 110,
   "id": "418e2996-86cc-420f-8a3f-5ec89bf13155",
   "metadata": {},
   "outputs": [],
   "source": [
    "# Creer un subset en exlucant toutes les colonnes qu'on n'utilise pas pour la classification \n",
    "subset = (df_dummies.loc[:, ~df_dummies.columns.isin(['No_disposition', 'Date_mutation', 'Valeur_fonciere',\n",
    "                                                            'No_voie', 'Type_de_voie', 'Voie','Code_postal',\n",
    "                                                            'Commune', 'Code_commune', 'Section','No_plan',\n",
    "                                                            '1er_lot', 'Nombre_de_lots', 'Code_type_local','Type_local',\n",
    "                                                            'Surface_terrain', 'adresse', 'year','Month','Quarter', 'Quarter_Label',\n",
    "                                                     'Code_voie', 'month_year', 'Year','Code_departement'])])\n",
    "# Creer la liste des variables independantes pour la classification \n",
    "feature_cols = subset.columns.tolist()\n",
    "feature_cols = feature_cols[1:]\n",
    "\n"
   ]
  },
  {
   "cell_type": "code",
   "execution_count": 111,
   "id": "68b2b8c0-d598-4422-b2b1-4e916b40501e",
   "metadata": {},
   "outputs": [],
   "source": [
    "# Preparer la classification              \n",
    "X = df_dummies[feature_cols] # Features\n",
    "y = df_dummies.Code_type_local # Target variable"
   ]
  },
  {
   "cell_type": "code",
   "execution_count": 112,
   "id": "52665983-4966-41e0-b3e2-816531184dce",
   "metadata": {},
   "outputs": [],
   "source": [
    "# Split data\n",
    "from sklearn import tree\n",
    "\n",
    "X_train, X_test, y_train, y_test = train_test_split(X, y, test_size=0.3, random_state=1)"
   ]
  },
  {
   "cell_type": "code",
   "execution_count": 113,
   "id": "6099c9ee-78b0-4f91-a576-0fd543a5f22d",
   "metadata": {},
   "outputs": [],
   "source": [
    "# Create Decision Tree classifer object\n",
    "clf = DecisionTreeClassifier(max_depth = 3, random_state=0)"
   ]
  },
  {
   "cell_type": "code",
   "execution_count": 114,
   "id": "7947bac7-fbe9-4c09-8a43-1cd741663c78",
   "metadata": {},
   "outputs": [],
   "source": [
    "# Train Decision Tree Classifer\n",
    "clf = clf.fit(X_train,y_train)"
   ]
  },
  {
   "cell_type": "code",
   "execution_count": 115,
   "id": "d59201b1-509e-4f60-8eab-b0013802cbea",
   "metadata": {},
   "outputs": [
    {
     "data": {
      "text/plain": [
       "array([1., 1., 3., ..., 3., 4., 2.])"
      ]
     },
     "execution_count": 115,
     "metadata": {},
     "output_type": "execute_result"
    }
   ],
   "source": [
    "#Predict the response for test dataset\n",
    "y_pred = clf.predict(X_test)\n",
    "y_pred"
   ]
  },
  {
   "cell_type": "code",
   "execution_count": 116,
   "id": "bbaf24eb-d785-4427-b3b4-34a041654e07",
   "metadata": {},
   "outputs": [
    {
     "name": "stdout",
     "output_type": "stream",
     "text": [
      "Accuracy: 0.9121672888403289\n"
     ]
    }
   ],
   "source": [
    "accuracy_score = metrics.accuracy_score(y_test, y_pred)\n",
    "print(\"Accuracy:\",metrics.accuracy_score(y_test, y_pred))"
   ]
  },
  {
   "cell_type": "code",
   "execution_count": 117,
   "id": "0d763ec6-bec6-4153-829b-f71e2734a648",
   "metadata": {},
   "outputs": [
    {
     "data": {
      "text/html": [
       "<div>\n",
       "<style scoped>\n",
       "    .dataframe tbody tr th:only-of-type {\n",
       "        vertical-align: middle;\n",
       "    }\n",
       "\n",
       "    .dataframe tbody tr th {\n",
       "        vertical-align: top;\n",
       "    }\n",
       "\n",
       "    .dataframe thead th {\n",
       "        text-align: right;\n",
       "    }\n",
       "</style>\n",
       "<table border=\"1\" class=\"dataframe\">\n",
       "  <thead>\n",
       "    <tr style=\"text-align: right;\">\n",
       "      <th></th>\n",
       "      <th>pred_1</th>\n",
       "      <th>pred_2</th>\n",
       "      <th>pred_3</th>\n",
       "      <th>pred_4</th>\n",
       "    </tr>\n",
       "  </thead>\n",
       "  <tbody>\n",
       "    <tr>\n",
       "      <th>obs_1</th>\n",
       "      <td>24882</td>\n",
       "      <td>4496</td>\n",
       "      <td>0</td>\n",
       "      <td>40</td>\n",
       "    </tr>\n",
       "    <tr>\n",
       "      <th>obs_2</th>\n",
       "      <td>1118</td>\n",
       "      <td>17264</td>\n",
       "      <td>0</td>\n",
       "      <td>33</td>\n",
       "    </tr>\n",
       "    <tr>\n",
       "      <th>obs_3</th>\n",
       "      <td>0</td>\n",
       "      <td>0</td>\n",
       "      <td>14431</td>\n",
       "      <td>0</td>\n",
       "    </tr>\n",
       "    <tr>\n",
       "      <th>obs_4</th>\n",
       "      <td>0</td>\n",
       "      <td>0</td>\n",
       "      <td>101</td>\n",
       "      <td>3533</td>\n",
       "    </tr>\n",
       "  </tbody>\n",
       "</table>\n",
       "</div>"
      ],
      "text/plain": [
       "       pred_1  pred_2  pred_3  pred_4\n",
       "obs_1   24882    4496       0      40\n",
       "obs_2    1118   17264       0      33\n",
       "obs_3       0       0   14431       0\n",
       "obs_4       0       0     101    3533"
      ]
     },
     "execution_count": 117,
     "metadata": {},
     "output_type": "execute_result"
    }
   ],
   "source": [
    "from sklearn.metrics import confusion_matrix\n",
    "mc = pd.DataFrame(confusion_matrix(y_test,y_pred),\n",
    "                  columns=['pred_1','pred_2','pred_3','pred_4'],\n",
    "                  index=['obs_1','obs_2','obs_3','obs_4'])\n",
    "\n",
    "mc"
   ]
  },
  {
   "cell_type": "code",
   "execution_count": 118,
   "id": "b88f8d0f-95ff-4a60-b995-33c11c111703",
   "metadata": {},
   "outputs": [],
   "source": [
    "########### Random forest\n",
    "from sklearn.ensemble import RandomForestClassifier\n",
    "from sklearn.metrics import accuracy_score, confusion_matrix, precision_score, recall_score, ConfusionMatrixDisplay\n",
    "from sklearn.model_selection import RandomizedSearchCV, train_test_split\n",
    "from scipy.stats import randint"
   ]
  },
  {
   "cell_type": "code",
   "execution_count": 119,
   "id": "b5aa3274-19e2-47e8-8b3e-2adcbbc97b20",
   "metadata": {},
   "outputs": [
    {
     "data": {
      "text/html": [
       "<style>#sk-container-id-4 {color: black;background-color: white;}#sk-container-id-4 pre{padding: 0;}#sk-container-id-4 div.sk-toggleable {background-color: white;}#sk-container-id-4 label.sk-toggleable__label {cursor: pointer;display: block;width: 100%;margin-bottom: 0;padding: 0.3em;box-sizing: border-box;text-align: center;}#sk-container-id-4 label.sk-toggleable__label-arrow:before {content: \"▸\";float: left;margin-right: 0.25em;color: #696969;}#sk-container-id-4 label.sk-toggleable__label-arrow:hover:before {color: black;}#sk-container-id-4 div.sk-estimator:hover label.sk-toggleable__label-arrow:before {color: black;}#sk-container-id-4 div.sk-toggleable__content {max-height: 0;max-width: 0;overflow: hidden;text-align: left;background-color: #f0f8ff;}#sk-container-id-4 div.sk-toggleable__content pre {margin: 0.2em;color: black;border-radius: 0.25em;background-color: #f0f8ff;}#sk-container-id-4 input.sk-toggleable__control:checked~div.sk-toggleable__content {max-height: 200px;max-width: 100%;overflow: auto;}#sk-container-id-4 input.sk-toggleable__control:checked~label.sk-toggleable__label-arrow:before {content: \"▾\";}#sk-container-id-4 div.sk-estimator input.sk-toggleable__control:checked~label.sk-toggleable__label {background-color: #d4ebff;}#sk-container-id-4 div.sk-label input.sk-toggleable__control:checked~label.sk-toggleable__label {background-color: #d4ebff;}#sk-container-id-4 input.sk-hidden--visually {border: 0;clip: rect(1px 1px 1px 1px);clip: rect(1px, 1px, 1px, 1px);height: 1px;margin: -1px;overflow: hidden;padding: 0;position: absolute;width: 1px;}#sk-container-id-4 div.sk-estimator {font-family: monospace;background-color: #f0f8ff;border: 1px dotted black;border-radius: 0.25em;box-sizing: border-box;margin-bottom: 0.5em;}#sk-container-id-4 div.sk-estimator:hover {background-color: #d4ebff;}#sk-container-id-4 div.sk-parallel-item::after {content: \"\";width: 100%;border-bottom: 1px solid gray;flex-grow: 1;}#sk-container-id-4 div.sk-label:hover label.sk-toggleable__label {background-color: #d4ebff;}#sk-container-id-4 div.sk-serial::before {content: \"\";position: absolute;border-left: 1px solid gray;box-sizing: border-box;top: 0;bottom: 0;left: 50%;z-index: 0;}#sk-container-id-4 div.sk-serial {display: flex;flex-direction: column;align-items: center;background-color: white;padding-right: 0.2em;padding-left: 0.2em;position: relative;}#sk-container-id-4 div.sk-item {position: relative;z-index: 1;}#sk-container-id-4 div.sk-parallel {display: flex;align-items: stretch;justify-content: center;background-color: white;position: relative;}#sk-container-id-4 div.sk-item::before, #sk-container-id-4 div.sk-parallel-item::before {content: \"\";position: absolute;border-left: 1px solid gray;box-sizing: border-box;top: 0;bottom: 0;left: 50%;z-index: -1;}#sk-container-id-4 div.sk-parallel-item {display: flex;flex-direction: column;z-index: 1;position: relative;background-color: white;}#sk-container-id-4 div.sk-parallel-item:first-child::after {align-self: flex-end;width: 50%;}#sk-container-id-4 div.sk-parallel-item:last-child::after {align-self: flex-start;width: 50%;}#sk-container-id-4 div.sk-parallel-item:only-child::after {width: 0;}#sk-container-id-4 div.sk-dashed-wrapped {border: 1px dashed gray;margin: 0 0.4em 0.5em 0.4em;box-sizing: border-box;padding-bottom: 0.4em;background-color: white;}#sk-container-id-4 div.sk-label label {font-family: monospace;font-weight: bold;display: inline-block;line-height: 1.2em;}#sk-container-id-4 div.sk-label-container {text-align: center;}#sk-container-id-4 div.sk-container {/* jupyter's `normalize.less` sets `[hidden] { display: none; }` but bootstrap.min.css set `[hidden] { display: none !important; }` so we also need the `!important` here to be able to override the default hidden behavior on the sphinx rendered scikit-learn.org. See: https://github.com/scikit-learn/scikit-learn/issues/21755 */display: inline-block !important;position: relative;}#sk-container-id-4 div.sk-text-repr-fallback {display: none;}</style><div id=\"sk-container-id-4\" class=\"sk-top-container\"><div class=\"sk-text-repr-fallback\"><pre>RandomForestClassifier()</pre><b>In a Jupyter environment, please rerun this cell to show the HTML representation or trust the notebook. <br />On GitHub, the HTML representation is unable to render, please try loading this page with nbviewer.org.</b></div><div class=\"sk-container\" hidden><div class=\"sk-item\"><div class=\"sk-estimator sk-toggleable\"><input class=\"sk-toggleable__control sk-hidden--visually\" id=\"sk-estimator-id-4\" type=\"checkbox\" checked><label for=\"sk-estimator-id-4\" class=\"sk-toggleable__label sk-toggleable__label-arrow\">RandomForestClassifier</label><div class=\"sk-toggleable__content\"><pre>RandomForestClassifier()</pre></div></div></div></div></div>"
      ],
      "text/plain": [
       "RandomForestClassifier()"
      ]
     },
     "execution_count": 119,
     "metadata": {},
     "output_type": "execute_result"
    }
   ],
   "source": [
    "rf = RandomForestClassifier()\n",
    "rf.fit(X_train, y_train)"
   ]
  },
  {
   "cell_type": "code",
   "execution_count": 120,
   "id": "b435f70b-36b8-4d6e-ad1f-725496bb080c",
   "metadata": {},
   "outputs": [],
   "source": [
    "y_pred = rf.predict(X_test)"
   ]
  },
  {
   "cell_type": "code",
   "execution_count": 121,
   "id": "16636a39-3582-4e91-8e8d-4e018a66d225",
   "metadata": {},
   "outputs": [
    {
     "name": "stdout",
     "output_type": "stream",
     "text": [
      "Accuracy: 0.9565692433761267\n"
     ]
    }
   ],
   "source": [
    "accuracy = accuracy_score(y_test, y_pred)\n",
    "print(\"Accuracy:\", accuracy)"
   ]
  },
  {
   "cell_type": "code",
   "execution_count": 126,
   "id": "861241dc-bdfd-431e-ad96-6fd25ef8f1dd",
   "metadata": {},
   "outputs": [
    {
     "data": {
      "text/html": [
       "<div>\n",
       "<style scoped>\n",
       "    .dataframe tbody tr th:only-of-type {\n",
       "        vertical-align: middle;\n",
       "    }\n",
       "\n",
       "    .dataframe tbody tr th {\n",
       "        vertical-align: top;\n",
       "    }\n",
       "\n",
       "    .dataframe thead th {\n",
       "        text-align: right;\n",
       "    }\n",
       "</style>\n",
       "<table border=\"1\" class=\"dataframe\">\n",
       "  <thead>\n",
       "    <tr style=\"text-align: right;\">\n",
       "      <th>pred</th>\n",
       "      <th>1.0</th>\n",
       "      <th>2.0</th>\n",
       "      <th>3.0</th>\n",
       "      <th>4.0</th>\n",
       "    </tr>\n",
       "    <tr>\n",
       "      <th>obs</th>\n",
       "      <th></th>\n",
       "      <th></th>\n",
       "      <th></th>\n",
       "      <th></th>\n",
       "    </tr>\n",
       "  </thead>\n",
       "  <tbody>\n",
       "    <tr>\n",
       "      <th>1.0</th>\n",
       "      <td>0.952138</td>\n",
       "      <td>0.046604</td>\n",
       "      <td>0.000000</td>\n",
       "      <td>0.001258</td>\n",
       "    </tr>\n",
       "    <tr>\n",
       "      <th>2.0</th>\n",
       "      <td>0.071355</td>\n",
       "      <td>0.927125</td>\n",
       "      <td>0.000000</td>\n",
       "      <td>0.001520</td>\n",
       "    </tr>\n",
       "    <tr>\n",
       "      <th>3.0</th>\n",
       "      <td>0.000000</td>\n",
       "      <td>0.000000</td>\n",
       "      <td>1.000000</td>\n",
       "      <td>0.000000</td>\n",
       "    </tr>\n",
       "    <tr>\n",
       "      <th>4.0</th>\n",
       "      <td>0.002201</td>\n",
       "      <td>0.001376</td>\n",
       "      <td>0.027243</td>\n",
       "      <td>0.969180</td>\n",
       "    </tr>\n",
       "    <tr>\n",
       "      <th>All</th>\n",
       "      <td>0.445112</td>\n",
       "      <td>0.279963</td>\n",
       "      <td>0.220492</td>\n",
       "      <td>0.054433</td>\n",
       "    </tr>\n",
       "  </tbody>\n",
       "</table>\n",
       "</div>"
      ],
      "text/plain": [
       "pred       1.0       2.0       3.0       4.0\n",
       "obs                                         \n",
       "1.0   0.952138  0.046604  0.000000  0.001258\n",
       "2.0   0.071355  0.927125  0.000000  0.001520\n",
       "3.0   0.000000  0.000000  1.000000  0.000000\n",
       "4.0   0.002201  0.001376  0.027243  0.969180\n",
       "All   0.445112  0.279963  0.220492  0.054433"
      ]
     },
     "execution_count": 126,
     "metadata": {},
     "output_type": "execute_result"
    }
   ],
   "source": [
    "pd.crosstab(y_test,y_pred, colnames=['pred'], rownames=['obs'], margins=True, normalize = 'index')"
   ]
  },
  {
   "cell_type": "code",
   "execution_count": 123,
   "id": "05a23295-bc72-4d16-b9f4-341c8382246b",
   "metadata": {},
   "outputs": [
    {
     "name": "stdout",
     "output_type": "stream",
     "text": [
      "Accuracy 0.9565692433761267\n",
      "Recall_scores [0.95213815 0.92712463 1.         0.96917997]\n",
      "f1_scores [0.95353191 0.92626953 0.99658161 0.97548816]\n",
      "weighted f1_score 0.9565517689819958\n"
     ]
    }
   ],
   "source": [
    "from sklearn.metrics import accuracy_score, recall_score, f1_score\n",
    "\n",
    "# Calculate accuracy \n",
    "#Accuracy = (Number of Correct Predictions) / (Total Number of Predictions)\n",
    "accuracy = accuracy_score(y_test, y_pred)\n",
    "print(f\"Accuracy {accuracy}\")\n",
    "\n",
    "# Calculate recall for each class and get a list of recall scores \n",
    "# Recall (Class i) = (True Positives for Class i) / (Total Actual Positives for Class i)\n",
    "recall_scores = recall_score(y_test, y_pred, average=None)\n",
    "print(f\"Recall_scores {recall_scores}\")\n",
    "\n",
    "# Calculate F1 score for each class and get a list of F1 scores\n",
    "f1_scores = f1_score(y_test, y_pred, average=None)\n",
    "print(f\"f1_scores {f1_scores}\")\n",
    "weighted_f1 = f1_score(y_test, y_pred, average='weighted')\n",
    "print(f\"weighted f1_score {weighted_f1}\")\n"
   ]
  },
  {
   "cell_type": "code",
   "execution_count": null,
   "id": "5187f2e1-393b-4794-a142-9cc60465bdea",
   "metadata": {},
   "outputs": [],
   "source": []
  }
 ],
 "metadata": {
  "kernelspec": {
   "display_name": "Python 3 (ipykernel)",
   "language": "python",
   "name": "python3"
  },
  "language_info": {
   "codemirror_mode": {
    "name": "ipython",
    "version": 3
   },
   "file_extension": ".py",
   "mimetype": "text/x-python",
   "name": "python",
   "nbconvert_exporter": "python",
   "pygments_lexer": "ipython3",
   "version": "3.10.9"
  }
 },
 "nbformat": 4,
 "nbformat_minor": 5
}
