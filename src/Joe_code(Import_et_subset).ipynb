{
 "cells": [
  {
   "cell_type": "code",
   "execution_count": 1,
   "id": "05b07e76-dec6-44e9-b504-9038f7d4e777",
   "metadata": {},
   "outputs": [],
   "source": [
    "import os\n",
    "os.chdir('/Users/josephpelham/Desktop/SISE/Python/Donnees')"
   ]
  },
  {
   "cell_type": "code",
   "execution_count": null,
   "id": "c7dce73d-bff0-46e4-b6a7-f527948d9cc3",
   "metadata": {},
   "outputs": [],
   "source": [
    "# importer les données\n",
    "import pandas as pd\n",
    "df_18 = pd.read_csv('/Users/josephpelham/Desktop/SISE/Python/Donnees/valeursfoncieres-2018.txt', delimiter='|')\n",
    "df_19 = pd.read_csv('/Users/josephpelham/Desktop/SISE/Python/Donnees/valeursfoncieres-2019.txt', delimiter='|')\n",
    "df_20 = pd.read_csv('/Users/josephpelham/Desktop/SISE/Python/Donnees/valeursfoncieres-2020.txt', delimiter='|')\n",
    "df_21 = pd.read_csv('/Users/josephpelham/Desktop/SISE/Python/Donnees/valeursfoncieres-2021.txt', delimiter='|')"
   ]
  },
  {
   "cell_type": "code",
   "execution_count": null,
   "id": "595c5329-19ef-4879-9fc1-591a8fc904d6",
   "metadata": {},
   "outputs": [],
   "source": [
    "# Remplacer les espaces par les _ dans colonnes \n",
    "df_18.columns = df_18.columns.str.replace(' ', '_')\n",
    "df_19.columns = df_19.columns.str.replace(' ', '_')\n",
    "df_20.columns = df_20.columns.str.replace(' ', '_')\n",
    "df_21.columns = df_21.columns.str.replace(' ', '_')"
   ]
  },
  {
   "cell_type": "code",
   "execution_count": null,
   "id": "e6025c1b-6a1f-4fbe-a8e2-305c8221549c",
   "metadata": {},
   "outputs": [],
   "source": [
    "# Remove duplicates \n",
    "# Creer la variable \"adresse\" avec (par Voie, Code postal et Commune)\n",
    "df_18[\"adresse\"] = df_18[\"Voie\"] + \"_\" + df_18[\"Code_postal\"].astype(str) + \"_\" + df_18[\"Commune\"]\n",
    "df_19[\"adresse\"] = df_19[\"Voie\"] + \"_\" + df_19[\"Code_postal\"].astype(str) + \"_\" + df_19[\"Commune\"]\n",
    "df_20[\"adresse\"] = df_20[\"Voie\"] + \"_\" + df_20[\"Code_postal\"].astype(str) + \"_\" + df_20[\"Commune\"]\n",
    "df_21[\"adresse\"] = df_21[\"Voie\"] + \"_\" + df_21[\"Code_postal\"].astype(str) + \"_\" + df_21[\"Commune\"]\n",
    "\n",
    "# remove duplicates (date_mutation et adresse)\n",
    "df_18 = df_18.drop_duplicates(subset = [\"Date_mutation\",\"adresse\"])\n",
    "df_19 = df_19.drop_duplicates(subset = [\"Date_mutation\",\"adresse\"])\n",
    "df_20 = df_20.drop_duplicates(subset = [\"Date_mutation\",\"adresse\"])\n",
    "df_21 = df_21.drop_duplicates(subset = [\"Date_mutation\",\"adresse\"])"
   ]
  },
  {
   "cell_type": "code",
   "execution_count": null,
   "id": "21c03686-543d-4e4a-bcc9-cbc990a7b0f3",
   "metadata": {},
   "outputs": [],
   "source": [
    "# sample random 5% of each year\n",
    "df_18_s = df_18.sample(frac=.05, random_state=42)\n",
    "df_19_s = df_19.sample(frac=.05, random_state=42)\n",
    "df_20_s = df_20.sample(frac=.05, random_state=42)\n",
    "df_21_s = df_21.sample(frac=.05, random_state=42)"
   ]
  },
  {
   "cell_type": "code",
   "execution_count": null,
   "id": "e1b988fc-52d5-47cf-9b0a-6780692a0ad3",
   "metadata": {},
   "outputs": [],
   "source": [
    "# Combine sampled subsets \n",
    "df = pd.concat([df_18_s, df_19_s, df_20_s, df_21_s], axis=0)\n"
   ]
  },
  {
   "cell_type": "code",
   "execution_count": null,
   "id": "c1c0c322-f955-4135-9e2c-8e65154feef0",
   "metadata": {},
   "outputs": [],
   "source": [
    "# Convert Valeur_fonciere to numeric\n",
    "df['Valeur_fonciere'] = df['Valeur_fonciere'].str.replace(',', '.')\n",
    "df['Valeur_fonciere'] = pd.to_numeric(df['Valeur_fonciere'])"
   ]
  },
  {
   "cell_type": "code",
   "execution_count": null,
   "id": "4999449f-2aac-4a41-b817-abfdd2c0a6a0",
   "metadata": {},
   "outputs": [],
   "source": [
    "# Remove columns with 75% NA\n",
    "# % of NA \n",
    "missing_perc = df.isna().sum() / len(df) * 100\n",
    "\n",
    "# Define the threshold for dropping columns (75% in this case)\n",
    "threshold = 75\n",
    "\n",
    "# Use the dropna method to drop columns with more than 75% missing values\n",
    "df = df.dropna(axis=1, thresh=len(df) * (1 - threshold / 100))\n"
   ]
  },
  {
   "cell_type": "code",
   "execution_count": null,
   "id": "bcf73926-3ce5-4435-aaf1-b80cb15d237d",
   "metadata": {},
   "outputs": [],
   "source": [
    "# Creer la variable \"year\" \n",
    "df['Date_mutation'] = pd.to_datetime(df['Date_mutation'], format='%d/%m/%Y')\n",
    "\n",
    "# Extract the year component and create a new 'year' column\n",
    "df['year'] = df['Date_mutation'].dt.year\n",
    "df.year.value_counts()"
   ]
  }
 ],
 "metadata": {
  "kernelspec": {
   "display_name": "Python 3 (ipykernel)",
   "language": "python",
   "name": "python3"
  },
  "language_info": {
   "codemirror_mode": {
    "name": "ipython",
    "version": 3
   },
   "file_extension": ".py",
   "mimetype": "text/x-python",
   "name": "python",
   "nbconvert_exporter": "python",
   "pygments_lexer": "ipython3",
   "version": "3.10.9"
  }
 },
 "nbformat": 4,
 "nbformat_minor": 5
}
