{
 "cells": [
  {
   "cell_type": "code",
   "execution_count": 2,
   "id": "05b07e76-dec6-44e9-b504-9038f7d4e777",
   "metadata": {},
   "outputs": [],
   "source": [
    "import os\n",
    "os.chdir('/Users/josephpelham/Desktop/SISE/Python/Donnees')"
   ]
  },
  {
   "cell_type": "code",
   "execution_count": 3,
   "id": "c7dce73d-bff0-46e4-b6a7-f527948d9cc3",
   "metadata": {},
   "outputs": [
    {
     "name": "stderr",
     "output_type": "stream",
     "text": [
      "/var/folders/9h/10k_pkdn42sb6xmd67qywq2r0000gn/T/ipykernel_30824/3960010016.py:3: DtypeWarning: Columns (14,18,23,24,26,28,29,31,32,33,41) have mixed types. Specify dtype option on import or set low_memory=False.\n",
      "  df_18 = pd.read_csv('/Users/josephpelham/Desktop/SISE/Python/Donnees/valeursfoncieres-2018.txt', delimiter='|')\n",
      "/var/folders/9h/10k_pkdn42sb6xmd67qywq2r0000gn/T/ipykernel_30824/3960010016.py:4: DtypeWarning: Columns (18,23,24,26,28,31,33,41) have mixed types. Specify dtype option on import or set low_memory=False.\n",
      "  df_19 = pd.read_csv('/Users/josephpelham/Desktop/SISE/Python/Donnees/valeursfoncieres-2019.txt', delimiter='|')\n",
      "/var/folders/9h/10k_pkdn42sb6xmd67qywq2r0000gn/T/ipykernel_30824/3960010016.py:5: DtypeWarning: Columns (18,23,24,26,28,31,33,41) have mixed types. Specify dtype option on import or set low_memory=False.\n",
      "  df_20 = pd.read_csv('/Users/josephpelham/Desktop/SISE/Python/Donnees/valeursfoncieres-2020.txt', delimiter='|')\n",
      "/var/folders/9h/10k_pkdn42sb6xmd67qywq2r0000gn/T/ipykernel_30824/3960010016.py:6: DtypeWarning: Columns (18,23,24,26,28,29,30,31,33,41) have mixed types. Specify dtype option on import or set low_memory=False.\n",
      "  df_21 = pd.read_csv('/Users/josephpelham/Desktop/SISE/Python/Donnees/valeursfoncieres-2021.txt', delimiter='|')\n"
     ]
    }
   ],
   "source": [
    "# importer les données\n",
    "import pandas as pd\n",
    "df_18 = pd.read_csv('/Users/josephpelham/Desktop/SISE/Python/Donnees/valeursfoncieres-2018.txt', delimiter='|')\n",
    "df_19 = pd.read_csv('/Users/josephpelham/Desktop/SISE/Python/Donnees/valeursfoncieres-2019.txt', delimiter='|')\n",
    "df_20 = pd.read_csv('/Users/josephpelham/Desktop/SISE/Python/Donnees/valeursfoncieres-2020.txt', delimiter='|')\n",
    "df_21 = pd.read_csv('/Users/josephpelham/Desktop/SISE/Python/Donnees/valeursfoncieres-2021.txt', delimiter='|')"
   ]
  },
  {
   "cell_type": "code",
   "execution_count": 4,
   "id": "595c5329-19ef-4879-9fc1-591a8fc904d6",
   "metadata": {},
   "outputs": [],
   "source": [
    "# Remplacer les espaces par les _ dans colonnes \n",
    "df_18.columns = df_18.columns.str.replace(' ', '_')\n",
    "df_19.columns = df_19.columns.str.replace(' ', '_')\n",
    "df_20.columns = df_20.columns.str.replace(' ', '_')\n",
    "df_21.columns = df_21.columns.str.replace(' ', '_')"
   ]
  },
  {
   "cell_type": "code",
   "execution_count": 5,
   "id": "e6025c1b-6a1f-4fbe-a8e2-305c8221549c",
   "metadata": {},
   "outputs": [],
   "source": [
    "# Remove duplicates \n",
    "# Creer la variable \"adresse\" avec (par Voie, Code postal et Commune)\n",
    "df_18[\"adresse\"] = df_18[\"Voie\"] + \"_\" + df_18[\"Code_postal\"].astype(str) + \"_\" + df_18[\"Commune\"]\n",
    "df_19[\"adresse\"] = df_19[\"Voie\"] + \"_\" + df_19[\"Code_postal\"].astype(str) + \"_\" + df_19[\"Commune\"]\n",
    "df_20[\"adresse\"] = df_20[\"Voie\"] + \"_\" + df_20[\"Code_postal\"].astype(str) + \"_\" + df_20[\"Commune\"]\n",
    "df_21[\"adresse\"] = df_21[\"Voie\"] + \"_\" + df_21[\"Code_postal\"].astype(str) + \"_\" + df_21[\"Commune\"]\n",
    "\n",
    "# remove duplicates (date_mutation et adresse)\n",
    "df_18 = df_18.drop_duplicates(subset = [\"Date_mutation\",\"adresse\"])\n",
    "df_19 = df_19.drop_duplicates(subset = [\"Date_mutation\",\"adresse\"])\n",
    "df_20 = df_20.drop_duplicates(subset = [\"Date_mutation\",\"adresse\"])\n",
    "df_21 = df_21.drop_duplicates(subset = [\"Date_mutation\",\"adresse\"])"
   ]
  },
  {
   "cell_type": "code",
   "execution_count": 6,
   "id": "21c03686-543d-4e4a-bcc9-cbc990a7b0f3",
   "metadata": {},
   "outputs": [],
   "source": [
    "# sample random 5% of each year\n",
    "df_18_s = df_18.sample(frac=.05, random_state=42)\n",
    "df_19_s = df_19.sample(frac=.05, random_state=42)\n",
    "df_20_s = df_20.sample(frac=.05, random_state=42)\n",
    "df_21_s = df_21.sample(frac=.05, random_state=42)"
   ]
  },
  {
   "cell_type": "code",
   "execution_count": 19,
   "id": "e1b988fc-52d5-47cf-9b0a-6780692a0ad3",
   "metadata": {},
   "outputs": [],
   "source": [
    "# Combine sampled subsets \n",
    "df_pre = pd.concat([df_18_s, df_19_s, df_20_s, df_21_s], axis=0)"
   ]
  },
  {
   "cell_type": "code",
   "execution_count": 20,
   "id": "2cdec67c-f297-425b-9312-3104018ab1e3",
   "metadata": {},
   "outputs": [],
   "source": [
    "# Supprimer les observations ou Type_local == NA\n",
    "df = df_pre.dropna(subset=[\"Type_local\"])"
   ]
  },
  {
   "cell_type": "code",
   "execution_count": 24,
   "id": "c1c0c322-f955-4135-9e2c-8e65154feef0",
   "metadata": {},
   "outputs": [
    {
     "ename": "AttributeError",
     "evalue": "Can only use .str accessor with string values!",
     "output_type": "error",
     "traceback": [
      "\u001b[0;31m---------------------------------------------------------------------------\u001b[0m",
      "\u001b[0;31mAttributeError\u001b[0m                            Traceback (most recent call last)",
      "Cell \u001b[0;32mIn[24], line 2\u001b[0m\n\u001b[1;32m      1\u001b[0m \u001b[38;5;66;03m# Convert Valeur_fonciere to numeric\u001b[39;00m\n\u001b[0;32m----> 2\u001b[0m df[\u001b[38;5;124m'\u001b[39m\u001b[38;5;124mValeur_fonciere\u001b[39m\u001b[38;5;124m'\u001b[39m] \u001b[38;5;241m=\u001b[39m \u001b[43mdf\u001b[49m\u001b[43m[\u001b[49m\u001b[38;5;124;43m'\u001b[39;49m\u001b[38;5;124;43mValeur_fonciere\u001b[39;49m\u001b[38;5;124;43m'\u001b[39;49m\u001b[43m]\u001b[49m\u001b[38;5;241;43m.\u001b[39;49m\u001b[43mstr\u001b[49m\u001b[38;5;241m.\u001b[39mreplace(\u001b[38;5;124m'\u001b[39m\u001b[38;5;124m,\u001b[39m\u001b[38;5;124m'\u001b[39m, \u001b[38;5;124m'\u001b[39m\u001b[38;5;124m.\u001b[39m\u001b[38;5;124m'\u001b[39m)\n\u001b[1;32m      3\u001b[0m df[\u001b[38;5;124m'\u001b[39m\u001b[38;5;124mValeur_fonciere\u001b[39m\u001b[38;5;124m'\u001b[39m] \u001b[38;5;241m=\u001b[39m pd\u001b[38;5;241m.\u001b[39mto_numeric(df[\u001b[38;5;124m'\u001b[39m\u001b[38;5;124mValeur_fonciere\u001b[39m\u001b[38;5;124m'\u001b[39m])\n",
      "File \u001b[0;32m~/anaconda3/lib/python3.10/site-packages/pandas/core/generic.py:5902\u001b[0m, in \u001b[0;36mNDFrame.__getattr__\u001b[0;34m(self, name)\u001b[0m\n\u001b[1;32m   5895\u001b[0m \u001b[38;5;28;01mif\u001b[39;00m (\n\u001b[1;32m   5896\u001b[0m     name \u001b[38;5;129;01mnot\u001b[39;00m \u001b[38;5;129;01min\u001b[39;00m \u001b[38;5;28mself\u001b[39m\u001b[38;5;241m.\u001b[39m_internal_names_set\n\u001b[1;32m   5897\u001b[0m     \u001b[38;5;129;01mand\u001b[39;00m name \u001b[38;5;129;01mnot\u001b[39;00m \u001b[38;5;129;01min\u001b[39;00m \u001b[38;5;28mself\u001b[39m\u001b[38;5;241m.\u001b[39m_metadata\n\u001b[1;32m   5898\u001b[0m     \u001b[38;5;129;01mand\u001b[39;00m name \u001b[38;5;129;01mnot\u001b[39;00m \u001b[38;5;129;01min\u001b[39;00m \u001b[38;5;28mself\u001b[39m\u001b[38;5;241m.\u001b[39m_accessors\n\u001b[1;32m   5899\u001b[0m     \u001b[38;5;129;01mand\u001b[39;00m \u001b[38;5;28mself\u001b[39m\u001b[38;5;241m.\u001b[39m_info_axis\u001b[38;5;241m.\u001b[39m_can_hold_identifiers_and_holds_name(name)\n\u001b[1;32m   5900\u001b[0m ):\n\u001b[1;32m   5901\u001b[0m     \u001b[38;5;28;01mreturn\u001b[39;00m \u001b[38;5;28mself\u001b[39m[name]\n\u001b[0;32m-> 5902\u001b[0m \u001b[38;5;28;01mreturn\u001b[39;00m \u001b[38;5;28;43mobject\u001b[39;49m\u001b[38;5;241;43m.\u001b[39;49m\u001b[38;5;21;43m__getattribute__\u001b[39;49m\u001b[43m(\u001b[49m\u001b[38;5;28;43mself\u001b[39;49m\u001b[43m,\u001b[49m\u001b[43m \u001b[49m\u001b[43mname\u001b[49m\u001b[43m)\u001b[49m\n",
      "File \u001b[0;32m~/anaconda3/lib/python3.10/site-packages/pandas/core/accessor.py:182\u001b[0m, in \u001b[0;36mCachedAccessor.__get__\u001b[0;34m(self, obj, cls)\u001b[0m\n\u001b[1;32m    179\u001b[0m \u001b[38;5;28;01mif\u001b[39;00m obj \u001b[38;5;129;01mis\u001b[39;00m \u001b[38;5;28;01mNone\u001b[39;00m:\n\u001b[1;32m    180\u001b[0m     \u001b[38;5;66;03m# we're accessing the attribute of the class, i.e., Dataset.geo\u001b[39;00m\n\u001b[1;32m    181\u001b[0m     \u001b[38;5;28;01mreturn\u001b[39;00m \u001b[38;5;28mself\u001b[39m\u001b[38;5;241m.\u001b[39m_accessor\n\u001b[0;32m--> 182\u001b[0m accessor_obj \u001b[38;5;241m=\u001b[39m \u001b[38;5;28;43mself\u001b[39;49m\u001b[38;5;241;43m.\u001b[39;49m\u001b[43m_accessor\u001b[49m\u001b[43m(\u001b[49m\u001b[43mobj\u001b[49m\u001b[43m)\u001b[49m\n\u001b[1;32m    183\u001b[0m \u001b[38;5;66;03m# Replace the property with the accessor object. Inspired by:\u001b[39;00m\n\u001b[1;32m    184\u001b[0m \u001b[38;5;66;03m# https://www.pydanny.com/cached-property.html\u001b[39;00m\n\u001b[1;32m    185\u001b[0m \u001b[38;5;66;03m# We need to use object.__setattr__ because we overwrite __setattr__ on\u001b[39;00m\n\u001b[1;32m    186\u001b[0m \u001b[38;5;66;03m# NDFrame\u001b[39;00m\n\u001b[1;32m    187\u001b[0m \u001b[38;5;28mobject\u001b[39m\u001b[38;5;241m.\u001b[39m\u001b[38;5;21m__setattr__\u001b[39m(obj, \u001b[38;5;28mself\u001b[39m\u001b[38;5;241m.\u001b[39m_name, accessor_obj)\n",
      "File \u001b[0;32m~/anaconda3/lib/python3.10/site-packages/pandas/core/strings/accessor.py:181\u001b[0m, in \u001b[0;36mStringMethods.__init__\u001b[0;34m(self, data)\u001b[0m\n\u001b[1;32m    178\u001b[0m \u001b[38;5;28;01mdef\u001b[39;00m \u001b[38;5;21m__init__\u001b[39m(\u001b[38;5;28mself\u001b[39m, data) \u001b[38;5;241m-\u001b[39m\u001b[38;5;241m>\u001b[39m \u001b[38;5;28;01mNone\u001b[39;00m:\n\u001b[1;32m    179\u001b[0m     \u001b[38;5;28;01mfrom\u001b[39;00m \u001b[38;5;21;01mpandas\u001b[39;00m\u001b[38;5;21;01m.\u001b[39;00m\u001b[38;5;21;01mcore\u001b[39;00m\u001b[38;5;21;01m.\u001b[39;00m\u001b[38;5;21;01marrays\u001b[39;00m\u001b[38;5;21;01m.\u001b[39;00m\u001b[38;5;21;01mstring_\u001b[39;00m \u001b[38;5;28;01mimport\u001b[39;00m StringDtype\n\u001b[0;32m--> 181\u001b[0m     \u001b[38;5;28mself\u001b[39m\u001b[38;5;241m.\u001b[39m_inferred_dtype \u001b[38;5;241m=\u001b[39m \u001b[38;5;28;43mself\u001b[39;49m\u001b[38;5;241;43m.\u001b[39;49m\u001b[43m_validate\u001b[49m\u001b[43m(\u001b[49m\u001b[43mdata\u001b[49m\u001b[43m)\u001b[49m\n\u001b[1;32m    182\u001b[0m     \u001b[38;5;28mself\u001b[39m\u001b[38;5;241m.\u001b[39m_is_categorical \u001b[38;5;241m=\u001b[39m is_categorical_dtype(data\u001b[38;5;241m.\u001b[39mdtype)\n\u001b[1;32m    183\u001b[0m     \u001b[38;5;28mself\u001b[39m\u001b[38;5;241m.\u001b[39m_is_string \u001b[38;5;241m=\u001b[39m \u001b[38;5;28misinstance\u001b[39m(data\u001b[38;5;241m.\u001b[39mdtype, StringDtype)\n",
      "File \u001b[0;32m~/anaconda3/lib/python3.10/site-packages/pandas/core/strings/accessor.py:235\u001b[0m, in \u001b[0;36mStringMethods._validate\u001b[0;34m(data)\u001b[0m\n\u001b[1;32m    232\u001b[0m inferred_dtype \u001b[38;5;241m=\u001b[39m lib\u001b[38;5;241m.\u001b[39minfer_dtype(values, skipna\u001b[38;5;241m=\u001b[39m\u001b[38;5;28;01mTrue\u001b[39;00m)\n\u001b[1;32m    234\u001b[0m \u001b[38;5;28;01mif\u001b[39;00m inferred_dtype \u001b[38;5;129;01mnot\u001b[39;00m \u001b[38;5;129;01min\u001b[39;00m allowed_types:\n\u001b[0;32m--> 235\u001b[0m     \u001b[38;5;28;01mraise\u001b[39;00m \u001b[38;5;167;01mAttributeError\u001b[39;00m(\u001b[38;5;124m\"\u001b[39m\u001b[38;5;124mCan only use .str accessor with string values!\u001b[39m\u001b[38;5;124m\"\u001b[39m)\n\u001b[1;32m    236\u001b[0m \u001b[38;5;28;01mreturn\u001b[39;00m inferred_dtype\n",
      "\u001b[0;31mAttributeError\u001b[0m: Can only use .str accessor with string values!"
     ]
    }
   ],
   "source": [
    "# Convert Valeur_fonciere to numeric\n",
    "df['Valeur_fonciere'] = df['Valeur_fonciere'].str.replace(',', '.')\n",
    "df['Valeur_fonciere'] = pd.to_numeric(df['Valeur_fonciere'])"
   ]
  },
  {
   "cell_type": "code",
   "execution_count": 25,
   "id": "4999449f-2aac-4a41-b817-abfdd2c0a6a0",
   "metadata": {},
   "outputs": [],
   "source": [
    "# Remove columns with 75% NA\n",
    "# % of NA \n",
    "missing_perc = df.isna().sum() / len(df) * 100\n",
    "\n",
    "# Define the threshold for dropping columns (75% in this case)\n",
    "threshold = 75\n",
    "\n",
    "# Use the dropna method to drop columns with more than 75% missing values\n",
    "df = df.dropna(axis=1, thresh=len(df) * (1 - threshold / 100))\n"
   ]
  },
  {
   "cell_type": "code",
   "execution_count": 26,
   "id": "bcf73926-3ce5-4435-aaf1-b80cb15d237d",
   "metadata": {},
   "outputs": [
    {
     "data": {
      "text/plain": [
       "2021    60724\n",
       "2019    55317\n",
       "2020    52661\n",
       "2018    50955\n",
       "Name: year, dtype: int64"
      ]
     },
     "execution_count": 26,
     "metadata": {},
     "output_type": "execute_result"
    }
   ],
   "source": [
    "# Creer la variable \"year\" \n",
    "df['Date_mutation'] = pd.to_datetime(df['Date_mutation'], format='%d/%m/%Y')\n",
    "\n",
    "# Extract the year component and create a new 'year' column\n",
    "df['year'] = df['Date_mutation'].dt.year\n",
    "df.year.value_counts()"
   ]
  },
  {
   "cell_type": "code",
   "execution_count": 29,
   "id": "0eaaa3da-6837-44c8-89f6-5d5d7afb4241",
   "metadata": {},
   "outputs": [],
   "source": [
    "df.to_csv(\"Donnees_Nettoyées(NA supprimé pour classification).csv\")"
   ]
  },
  {
   "cell_type": "code",
   "execution_count": null,
   "id": "3f13a858-f99a-4534-99c2-ba5b0a579cc2",
   "metadata": {},
   "outputs": [],
   "source": []
  }
 ],
 "metadata": {
  "kernelspec": {
   "display_name": "Python 3 (ipykernel)",
   "language": "python",
   "name": "python3"
  },
  "language_info": {
   "codemirror_mode": {
    "name": "ipython",
    "version": 3
   },
   "file_extension": ".py",
   "mimetype": "text/x-python",
   "name": "python",
   "nbconvert_exporter": "python",
   "pygments_lexer": "ipython3",
   "version": "3.10.9"
  }
 },
 "nbformat": 4,
 "nbformat_minor": 5
}
