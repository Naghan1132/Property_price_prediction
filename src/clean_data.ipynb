{
 "cells": [
  {
   "cell_type": "code",
   "execution_count": null,
   "metadata": {},
   "outputs": [],
   "source": [
    "import pandas as pd\n",
    "\n",
    "# df = pd.read_csv('valeursfoncieres-2018.txt', delimiter='\\|')\n",
    "# df = pd.read_csv('valeursfoncieres-2018.txt', delimiter='\\|',nrows=100000)\n",
    "df = pd.read_csv('../data/Donnees_Nettoyees.csv', index_col=0)\n",
    "\n",
    "print(df.shape)\n"
   ]
  }
 ],
 "metadata": {
  "language_info": {
   "name": "python"
  },
  "orig_nbformat": 4
 },
 "nbformat": 4,
 "nbformat_minor": 2
}
