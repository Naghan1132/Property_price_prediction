{
 "cells": [
  {
   "cell_type": "code",
   "execution_count": null,
   "metadata": {},
   "outputs": [],
   "source": [
    "import pandas as pd\n",
    "\n",
    "df = pd.read_csv('../data/donnees_nettoyees_avec_coord.csv', index_col=0)\n"
   ]
  },
  {
   "cell_type": "code",
   "execution_count": null,
   "metadata": {},
   "outputs": [],
   "source": [
    "import folium\n",
    "from folium.plugins import HeatMap\n",
    "from branca.colormap import linear\n",
    "\n",
    "# Créez votre DataFrame avec les colonnes \"latitude\", \"longitude\" et \"Valeur fonciere\"\n",
    "# Supposons que votre DataFrame s'appelle df\n",
    "\n",
    "# Supprimez les lignes avec des valeurs NaN dans les colonnes \"latitude\", \"longitude\" et \"Valeur fonciere\"\n",
    "df_no_na = df.dropna(subset=['latitude', 'longitude', 'Valeur_fonciere'])\n",
    "\n",
    "# Créez une liste de listes contenant les coordonnées [latitude, longitude] et la valeur \"Valeur fonciere\"\n",
    "heat_data = [[row['latitude'], row['longitude'], row['Valeur_fonciere']]\n",
    "             for index, row in df_no_na.iterrows()]\n",
    "\n",
    "# Créez la carte\n",
    "# Coordonnées du centre de la carte (Paris, France)\n",
    "my_map = folium.Map(location=[48.8566, 2.3522], zoom_start=12)\n",
    "\n",
    "# Créez une colormap linéaire basée sur la colonne \"Valeur fonciere\"\n",
    "colormap = linear.YlOrRd_09.scale(\n",
    "    min(df_no_na['Valeur_fonciere']), max(df_no_na['Valeur_fonciere']))\n",
    "\n",
    "# Ajoutez la carte de chaleur à partir des données\n",
    "HeatMap(heat_data,\n",
    "        min_opacity=0.2,\n",
    "        max_val=max(df_no_na['Valeur_fonciere']),\n",
    "        radius=15,\n",
    "        blur=10,\n",
    "        max_zoom=1,\n",
    "        gradient={0.4: 'blue', 0.65: 'lime', 1: 'red'}).add_to(my_map)\n",
    "\n",
    "# Ajoutez une légende basée sur la colormap\n",
    "colormap.caption = \"Valeur fonciere\"\n",
    "colormap.add_to(my_map)\n",
    "\n",
    "# Enregistrez la carte en tant que fichier HTML\n",
    "my_map.save('map.html')\n"
   ]
  }
 ],
 "metadata": {
  "language_info": {
   "name": "python"
  },
  "orig_nbformat": 4
 },
 "nbformat": 4,
 "nbformat_minor": 2
}
