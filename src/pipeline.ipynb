{
 "cells": [
  {
   "cell_type": "code",
   "execution_count": 4,
   "metadata": {},
   "outputs": [],
   "source": [
    "import pickle as pkl\n",
    "import pandas as pd\n",
    "\n",
    "# Imputer\n",
    "with open('../model/imputer.pkl','rb') as fichier_pickler:\n",
    "    imputer = pkl.load(fichier_pickler)\n",
    "\n",
    "\n",
    "# Classification\n",
    "with open('../model/modele_classification.pkl','rb') as fichier_pickler:\n",
    "    model_classif = pkl.load(fichier_pickler)\n",
    "\n",
    "\n",
    "\n",
    "# Regression\n",
    "with open('../model/modele_regression_code_1.pkl','rb') as fichier_pickler:\n",
    "    model_reg_1 = pkl.load(fichier_pickler)\n",
    "\n",
    "with open('../model/modele_regression_code_2.pkl','rb') as fichier_pickler:\n",
    "    model_reg_2 = pkl.load(fichier_pickler)\n",
    "\n",
    "with open('../model/modele_regression_code_3.pkl','rb') as fichier_pickler:\n",
    "    model_reg_3 = pkl.load(fichier_pickler)\n",
    "\n",
    "with open('../model/modele_regression_code_4.pkl','rb') as fichier_pickler:\n",
    "    model_reg_4 = pkl.load(fichier_pickler)\n",
    "\n"
   ]
  },
  {
   "cell_type": "code",
   "execution_count": null,
   "metadata": {},
   "outputs": [],
   "source": [
    "from sklearn.pipeline import Pipeline\n",
    "from sklearn.compose import ColumnTransformer\n",
    "from sklearn.impute import SimpleImputer\n",
    "\n",
    "colonnes_a_imputer = [\"Surface reelle bati\",\"Nombre pieces principales\"]\n",
    "\n",
    "\n",
    "transformateur_medianne = ColumnTransformer(\n",
    "    transformers=[('imputer',imputer,colonnes_a_imputer)]\n",
    ")\n",
    "\n",
    "# Pipeline classif\n",
    "pipeline_classif = Pipeline([\n",
    "    ('median_imputer',transformateur_medianne),\n",
    "    ('classifier',model_classif)\n",
    "])\n",
    "\n",
    "# Pipeline Type Local == 1\n",
    "pipeline_reg_1 = Pipeline([\n",
    "    ('reg_1',model_reg_1)\n",
    "])\n",
    "\n",
    "pipeline_reg_2 = Pipeline([\n",
    "    ('reg_2',model_reg_2)\n",
    "])\n",
    "\n",
    "pipeline_reg_3 = Pipeline([\n",
    "    ('reg_3',model_reg_3)\n",
    "])\n",
    "\n",
    "pipeline_reg_4 = Pipeline([\n",
    "    ('reg_4',model_reg_4)\n",
    "])"
   ]
  },
  {
   "cell_type": "code",
   "execution_count": null,
   "metadata": {},
   "outputs": [],
   "source": []
  }
 ],
 "metadata": {
  "kernelspec": {
   "display_name": "Python 3",
   "language": "python",
   "name": "python3"
  },
  "language_info": {
   "codemirror_mode": {
    "name": "ipython",
    "version": 3
   },
   "file_extension": ".py",
   "mimetype": "text/x-python",
   "name": "python",
   "nbconvert_exporter": "python",
   "pygments_lexer": "ipython3",
   "version": "3.11.4"
  },
  "orig_nbformat": 4
 },
 "nbformat": 4,
 "nbformat_minor": 2
}
